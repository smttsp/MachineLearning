{
 "cells": [
  {
   "cell_type": "code",
   "execution_count": 7,
   "metadata": {
    "collapsed": false
   },
   "outputs": [],
   "source": [
    "import json\n",
    "import math\n",
    "\n",
    "file= 'yelp_business.json'\n",
    "data = []\n",
    "\n",
    "with open(file) as f:\n",
    "    for line in f:\n",
    "        data.append(json.loads(line))\n",
    "# #   just checking:\n",
    "#     print(data[0])\n"
   ]
  },
  {
   "cell_type": "code",
   "execution_count": 8,
   "metadata": {
    "collapsed": false,
    "scrolled": false
   },
   "outputs": [
    {
     "name": "stdout",
     "output_type": "stream",
     "text": [
      "54303\n",
      "54303\n",
      "[1 1 2 ..., 2 1 2]\n"
     ]
    }
   ],
   "source": [
    "    #compare price range to stars. Skip businesses without price range. \n",
    "    import numpy as np\n",
    "    feature = []\n",
    "    target = []\n",
    "    for d in data:\n",
    "        if 'Price Range' in d['attributes'] and 'stars' in d:\n",
    "\n",
    "            line=d['attributes']['Price Range']\n",
    "            feature.append(line)\n",
    "            target.append(d['stars'])\n",
    "    feature = np.array(feature)\n",
    "    target = np.array(target)\n",
    "    print(len(feature))\n",
    "    print(len(target))\n",
    "    \n",
    "    print(feature)\n",
    "  "
   ]
  },
  {
   "cell_type": "code",
   "execution_count": 9,
   "metadata": {
    "collapsed": false
   },
   "outputs": [
    {
     "name": "stdout",
     "output_type": "stream",
     "text": [
      "36383   36383\n"
     ]
    }
   ],
   "source": [
    "#     print (math.floor(len(list)*0.6))\n",
    "    \n",
    "#     m1 = math.floor(len(list)*0.6);\n",
    "#     m2 = math.floor(len(list)*0.8);\n",
    "    \n",
    "#     list_train = np.array(list[:m1]);\n",
    "#     list_test = np.array(list[m1:m2]);\n",
    "#     list_cross = np.array(list[m2:]);\n",
    "\n",
    "#     target_train = np.array(target[:m1]);\n",
    "#     target_test = np.array(target[m1:m2]);\n",
    "#     target_cross = np.array(target[m2:]);\n",
    "\n",
    "from sklearn.model_selection import train_test_split\n",
    "X_train, X_test, y_train, y_test = train_test_split(\n",
    "feature, target, test_size=0.33, random_state=42)\n",
    "\n",
    "print(len(X_train), ' ', len(y_train))\n",
    "    \n",
    "# from pprint import pprint\n",
    "# print('len of list_train:',len(list_train))\n",
    "# print('len of target_train:',len(target_train))\n",
    "\n",
    "\n"
   ]
  },
  {
   "cell_type": "code",
   "execution_count": 10,
   "metadata": {
    "collapsed": false
   },
   "outputs": [
    {
     "name": "stdout",
     "output_type": "stream",
     "text": [
      "36383  y  36383\n"
     ]
    },
    {
     "data": {
      "text/plain": [
       "DecisionTreeRegressor(criterion='mse', max_depth=None, max_features=None,\n",
       "           max_leaf_nodes=None, min_impurity_split=1e-07,\n",
       "           min_samples_leaf=1, min_samples_split=2,\n",
       "           min_weight_fraction_leaf=0.0, presort=False, random_state=0,\n",
       "           splitter='best')"
      ]
     },
     "execution_count": 10,
     "metadata": {},
     "output_type": "execute_result"
    }
   ],
   "source": [
    "import numpy as np\n",
    "from sklearn.tree import DecisionTreeRegressor\n",
    "from sklearn import datasets, linear_model\n",
    "# from sklearn.cross_validation import train_test_split\n",
    "X_train=X_train.reshape(-1,1)\n",
    "y_train=y_train.reshape(-1,1)\n",
    "\n",
    "X_test = X_test.reshape(-1,1)\n",
    "y_test = y_test.reshape(-1,1)\n",
    "\n",
    "\n",
    "print(len(X_train), ' y ', len(y_train))\n",
    "regressor = DecisionTreeRegressor(random_state=0)\n",
    "regressor.fit(X_train,y_train)\n",
    "\n",
    "\n"
   ]
  },
  {
   "cell_type": "code",
   "execution_count": 12,
   "metadata": {
    "collapsed": false
   },
   "outputs": [
    {
     "data": {
      "text/plain": [
       "0.0058998114939369239"
      ]
     },
     "execution_count": 12,
     "metadata": {},
     "output_type": "execute_result"
    }
   ],
   "source": [
    "\n",
    "regressor.score(X_test,y_test)\n",
    "\n"
   ]
  },
  {
   "cell_type": "code",
   "execution_count": null,
   "metadata": {
    "collapsed": true
   },
   "outputs": [],
   "source": []
  },
  {
   "cell_type": "code",
   "execution_count": null,
   "metadata": {
    "collapsed": true
   },
   "outputs": [],
   "source": []
  }
 ],
 "metadata": {
  "anaconda-cloud": {},
  "kernelspec": {
   "display_name": "Python [conda root]",
   "language": "python",
   "name": "conda-root-py"
  },
  "language_info": {
   "codemirror_mode": {
    "name": "ipython",
    "version": 3
   },
   "file_extension": ".py",
   "mimetype": "text/x-python",
   "name": "python",
   "nbconvert_exporter": "python",
   "pygments_lexer": "ipython3",
   "version": "3.5.2"
  }
 },
 "nbformat": 4,
 "nbformat_minor": 1
}
